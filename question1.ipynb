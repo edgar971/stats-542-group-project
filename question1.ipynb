{
  "nbformat": 4,
  "nbformat_minor": 0,
  "metadata": {
    "colab": {
      "name": "question1.ipynb",
      "provenance": [],
      "collapsed_sections": [],
      "toc_visible": true
    },
    "kernelspec": {
      "name": "python3",
      "display_name": "Python 3"
    },
    "accelerator": "GPU"
  },
  "cells": [
    {
      "cell_type": "code",
      "metadata": {
        "id": "424DCGaCz8_d",
        "colab_type": "code",
        "colab": {}
      },
      "source": [
        "import os\n",
        "import random\n",
        "from matplotlib import image\n",
        "from matplotlib import pyplot as plt\n",
        "from skimage import color\n",
        "import pickle\n",
        "import seaborn as sn\n",
        "from skimage import io\n",
        "from skimage.transform import rescale, resize, downscale_local_mean\n",
        "from sklearn.model_selection import train_test_split\n",
        "from sklearn.svm import SVC\n",
        "import numpy as np\n",
        "from tqdm import tqdm\n",
        "from sklearn.metrics import confusion_matrix, accuracy_score, recall_score\n",
        "from sklearn.linear_model import LogisticRegression\n",
        "from sklearn.model_selection import GridSearchCV\n",
        "from sklearn.ensemble import GradientBoostingClassifier"
      ],
      "execution_count": 0,
      "outputs": []
    },
    {
      "cell_type": "code",
      "metadata": {
        "id": "IIKby9zHOolh",
        "colab_type": "code",
        "colab": {}
      },
      "source": [
        "%matplotlib inline"
      ],
      "execution_count": 0,
      "outputs": []
    },
    {
      "cell_type": "code",
      "metadata": {
        "id": "sZi4Whwf1lYV",
        "colab_type": "code",
        "outputId": "a9b04ec6-9872-4eaf-d45d-39c9f5d802f1",
        "colab": {
          "base_uri": "https://localhost:8080/",
          "height": 34
        }
      },
      "source": [
        "from google.colab import drive\n",
        "drive.mount('/content/drive')"
      ],
      "execution_count": 56,
      "outputs": [
        {
          "output_type": "stream",
          "text": [
            "Drive already mounted at /content/drive; to attempt to forcibly remount, call drive.mount(\"/content/drive\", force_remount=True).\n"
          ],
          "name": "stdout"
        }
      ]
    },
    {
      "cell_type": "markdown",
      "metadata": {
        "id": "60bLF3eO-roJ",
        "colab_type": "text"
      },
      "source": [
        "## Load and Process data"
      ]
    },
    {
      "cell_type": "code",
      "metadata": {
        "id": "OJufPNxH2wuj",
        "colab_type": "code",
        "colab": {}
      },
      "source": [
        "path = \"drive/My Drive/School/Illinois/2019/stat542/group-project/542\""
      ],
      "execution_count": 0,
      "outputs": []
    },
    {
      "cell_type": "code",
      "metadata": {
        "id": "5xr214SMMNR_",
        "colab_type": "code",
        "colab": {}
      },
      "source": [
        "pickle_file = \"drive/My Drive/School/Illinois/2019/stat542/group-project/images.pickle\""
      ],
      "execution_count": 0,
      "outputs": []
    },
    {
      "cell_type": "code",
      "metadata": {
        "id": "GC3bjiWEDWXT",
        "colab_type": "code",
        "colab": {}
      },
      "source": [
        "label_map = {'benign': 0, 'malignant': 1}"
      ],
      "execution_count": 0,
      "outputs": []
    },
    {
      "cell_type": "code",
      "metadata": {
        "id": "kbnspHliLOTw",
        "colab_type": "code",
        "colab": {}
      },
      "source": [
        "def save_images_to_disk(images, pickle_file):\n",
        "  with open(pickle_file, 'wb') as handle:\n",
        "    pickle.dump(images, handle, protocol=pickle.HIGHEST_PROTOCOL)"
      ],
      "execution_count": 0,
      "outputs": []
    },
    {
      "cell_type": "code",
      "metadata": {
        "id": "MvG2BSBRLcFu",
        "colab_type": "code",
        "colab": {}
      },
      "source": [
        "def load_images_from_disk(pickle_file):\n",
        "  try:\n",
        "    with open(pickle_file, 'rb') as handle:\n",
        "      return pickle.load(handle)\n",
        "  except:\n",
        "      return None"
      ],
      "execution_count": 0,
      "outputs": []
    },
    {
      "cell_type": "code",
      "metadata": {
        "id": "v9MjhV6u06ef",
        "colab_type": "code",
        "colab": {}
      },
      "source": [
        "def image_to_array(image_path):\n",
        "  size = (32,32)\n",
        "  image_data = io.imread(image_path)\n",
        "  return np.array(resize(image_data, size, anti_aliasing=True))"
      ],
      "execution_count": 0,
      "outputs": []
    },
    {
      "cell_type": "code",
      "metadata": {
        "id": "cuH0yMEd1Glk",
        "colab_type": "code",
        "colab": {}
      },
      "source": [
        "def load_images(images_path, pickle_file):\n",
        "  saved_images = load_images_from_disk(pickle_file)\n",
        "\n",
        "  if saved_images:\n",
        "    return saved_images\n",
        "  else:\n",
        "    label_images = {}\n",
        "    labels = os.listdir(images_path)\n",
        "    for label in labels:\n",
        "      images = os.listdir(f\"{images_path}/{label}\")\n",
        "      label_images[label] = [image_to_array(f\"{images_path}/{label}/{image}\") for image in  tqdm(images)]\n",
        "  \n",
        "  save_images_to_disk(images, pickle_file)\n",
        "  return label_images"
      ],
      "execution_count": 0,
      "outputs": []
    },
    {
      "cell_type": "code",
      "metadata": {
        "id": "3NdGuC5D5FmF",
        "colab_type": "code",
        "colab": {}
      },
      "source": [
        "def show_sample(images):\n",
        "  samples_images = []\n",
        "  for label in images:\n",
        "    image = images[label][0]\n",
        "    pyplot.figure()\n",
        "    pyplot.title(label)\n",
        "    pyplot.imshow(image)\n",
        "\n",
        "  pyplot.show()"
      ],
      "execution_count": 0,
      "outputs": []
    },
    {
      "cell_type": "code",
      "metadata": {
        "id": "I1J6A-eH_fu1",
        "colab_type": "code",
        "colab": {}
      },
      "source": [
        "def prepare_images_for_training(images):\n",
        "  x = []\n",
        "  y = []\n",
        "  for label in images:\n",
        "    for image in images[label]:\n",
        "      x.append(image.reshape(-1))\n",
        "      y.append(label_map[label])\n",
        "  \n",
        "  return np.array(x),np.array(y)"
      ],
      "execution_count": 0,
      "outputs": []
    },
    {
      "cell_type": "code",
      "metadata": {
        "id": "t8AX5JY21oZG",
        "colab_type": "code",
        "colab": {}
      },
      "source": [
        "images = load_images(path, pickle_file)"
      ],
      "execution_count": 0,
      "outputs": []
    },
    {
      "cell_type": "code",
      "metadata": {
        "id": "duAdX4Uk3mI6",
        "colab_type": "code",
        "colab": {
          "base_uri": "https://localhost:8080/",
          "height": 545
        },
        "outputId": "ec987f9c-c1ad-40bc-9dfa-4f9c640741c4"
      },
      "source": [
        "show_sample(images)"
      ],
      "execution_count": 67,
      "outputs": [
        {
          "output_type": "display_data",
          "data": {
            "image/png": "[encoded data removed]",
            "text/plain": [
              "<Figure size 432x288 with 1 Axes>"
            ]
          },
          "metadata": {
            "tags": []
          }
        },
        {
          "output_type": "display_data",
          "data": {
            "image/png": "[encoded data removed]",
            "text/plain": [
              "<Figure size 432x288 with 1 Axes>"
            ]
          },
          "metadata": {
            "tags": []
          }
        }
      ]
    },
    {
      "cell_type": "code",
      "metadata": {
        "id": "1pA0ualSKnvR",
        "colab_type": "code",
        "colab": {}
      },
      "source": [
        ""
      ],
      "execution_count": 0,
      "outputs": []
    },
    {
      "cell_type": "code",
      "metadata": {
        "id": "IeuB6CRu-yeG",
        "colab_type": "code",
        "colab": {}
      },
      "source": [
        "x, y = prepare_images_for_training(images)"
      ],
      "execution_count": 0,
      "outputs": []
    },
    {
      "cell_type": "code",
      "metadata": {
        "id": "r4FLH4D5ATL6",
        "colab_type": "code",
        "colab": {}
      },
      "source": [
        "X_train, X_test, y_train, y_test = train_test_split(x, y, test_size=0.33, random_state=11)"
      ],
      "execution_count": 0,
      "outputs": []
    },
    {
      "cell_type": "markdown",
      "metadata": {
        "id": "CuxuE7WL-vgZ",
        "colab_type": "text"
      },
      "source": [
        "## Train model 1: Support Vector Machine"
      ]
    },
    {
      "cell_type": "code",
      "metadata": {
        "id": "EtcgfAcw1DWm",
        "colab_type": "code",
        "colab": {}
      },
      "source": [
        "clf = SVC(gamma='scale').fit(X_train, y_train)"
      ],
      "execution_count": 0,
      "outputs": []
    },
    {
      "cell_type": "code",
      "metadata": {
        "id": "D6ckJWApXosQ",
        "colab_type": "code",
        "colab": {
          "base_uri": "https://localhost:8080/",
          "height": 34
        },
        "outputId": "e3b86441-a953-4f90-f92b-4ac3094a96d2"
      },
      "source": [
        "clf.score(X_test, y_test)"
      ],
      "execution_count": 158,
      "outputs": [
        {
          "output_type": "execute_result",
          "data": {
            "text/plain": [
              "0.696969696969697"
            ]
          },
          "metadata": {
            "tags": []
          },
          "execution_count": 158
        }
      ]
    },
    {
      "cell_type": "code",
      "metadata": {
        "id": "7drfaGpHXo8C",
        "colab_type": "code",
        "colab": {}
      },
      "source": [
        "y_pred = clf.predict(X_test)"
      ],
      "execution_count": 0,
      "outputs": []
    },
    {
      "cell_type": "code",
      "metadata": {
        "id": "9YS56I5IXyKD",
        "colab_type": "code",
        "colab": {
          "base_uri": "https://localhost:8080/",
          "height": 34
        },
        "outputId": "f389c211-3fa3-4d50-d4d1-82aaab9a2959"
      },
      "source": [
        "f\"Base accuracy {accuracy_score(y_test, y_pred)}\""
      ],
      "execution_count": 160,
      "outputs": [
        {
          "output_type": "execute_result",
          "data": {
            "text/plain": [
              "'Base accuracy 0.696969696969697'"
            ]
          },
          "metadata": {
            "tags": []
          },
          "execution_count": 160
        }
      ]
    },
    {
      "cell_type": "markdown",
      "metadata": {
        "id": "8VmJm6wnuVkC",
        "colab_type": "text"
      },
      "source": [
        "### Let's try to find the best set of parameters with cross validation"
      ]
    },
    {
      "cell_type": "code",
      "metadata": {
        "id": "TKUttISduY3n",
        "colab_type": "code",
        "colab": {}
      },
      "source": [
        "clf = SVC()"
      ],
      "execution_count": 0,
      "outputs": []
    },
    {
      "cell_type": "code",
      "metadata": {
        "id": "RPQ-tm_ySlWv",
        "colab_type": "code",
        "colab": {}
      },
      "source": [
        "param_grid = [{\"kernel\": [\"linear\", \"poly\", \"rbf\", \"sigmoid\"]}]"
      ],
      "execution_count": 0,
      "outputs": []
    },
    {
      "cell_type": "code",
      "metadata": {
        "id": "DPj_s9OMuY6e",
        "colab_type": "code",
        "outputId": "159fb0cc-c333-4b8e-a0df-cef757487ca9",
        "colab": {
          "base_uri": "https://localhost:8080/",
          "height": 139
        }
      },
      "source": [
        "search = GridSearchCV(clf, param_grid, cv=10, verbose=2, n_jobs=-1).fit(x, y)"
      ],
      "execution_count": 109,
      "outputs": [
        {
          "output_type": "stream",
          "text": [
            "Fitting 10 folds for each of 4 candidates, totalling 40 fits\n"
          ],
          "name": "stdout"
        },
        {
          "output_type": "stream",
          "text": [
            "[Parallel(n_jobs=-1)]: Using backend LokyBackend with 2 concurrent workers.\n",
            "[Parallel(n_jobs=-1)]: Done  37 tasks      | elapsed:    7.5s\n",
            "[Parallel(n_jobs=-1)]: Done  40 out of  40 | elapsed:    7.9s finished\n",
            "/usr/local/lib/python3.6/dist-packages/sklearn/svm/base.py:193: FutureWarning: The default value of gamma will change from 'auto' to 'scale' in version 0.22 to account better for unscaled features. Set gamma explicitly to 'auto' or 'scale' to avoid this warning.\n",
            "  \"avoid this warning.\", FutureWarning)\n"
          ],
          "name": "stderr"
        }
      ]
    },
    {
      "cell_type": "code",
      "metadata": {
        "id": "RwQKUgeJwZq4",
        "colab_type": "code",
        "outputId": "64ec2fba-3af0-4d1b-dd44-f4f4c044667f",
        "colab": {
          "base_uri": "https://localhost:8080/",
          "height": 34
        }
      },
      "source": [
        "search.best_score_"
      ],
      "execution_count": 110,
      "outputs": [
        {
          "output_type": "execute_result",
          "data": {
            "text/plain": [
              "0.6733333333333333"
            ]
          },
          "metadata": {
            "tags": []
          },
          "execution_count": 110
        }
      ]
    },
    {
      "cell_type": "code",
      "metadata": {
        "id": "L9DQIWn8w9UX",
        "colab_type": "code",
        "outputId": "761bda3a-0369-4314-96c9-a85d2b1b6f55",
        "colab": {
          "base_uri": "https://localhost:8080/",
          "height": 34
        }
      },
      "source": [
        "search.best_params_"
      ],
      "execution_count": 111,
      "outputs": [
        {
          "output_type": "execute_result",
          "data": {
            "text/plain": [
              "{'kernel': 'rbf'}"
            ]
          },
          "metadata": {
            "tags": []
          },
          "execution_count": 111
        }
      ]
    },
    {
      "cell_type": "code",
      "metadata": {
        "id": "ArYqaSirTdP3",
        "colab_type": "code",
        "colab": {}
      },
      "source": [
        "best_clf = search.best_estimator_"
      ],
      "execution_count": 0,
      "outputs": []
    },
    {
      "cell_type": "markdown",
      "metadata": {
        "id": "JUA2pOTeEJ_z",
        "colab_type": "text"
      },
      "source": [
        "### Accuracy results"
      ]
    },
    {
      "cell_type": "code",
      "metadata": {
        "id": "LeOQnhBA9wc-",
        "colab_type": "code",
        "outputId": "5a251fe5-4d8b-4dce-fc8a-242046d31d73",
        "colab": {
          "base_uri": "https://localhost:8080/",
          "height": 34
        }
      },
      "source": [
        "best_clf.score(X_test, y_test)"
      ],
      "execution_count": 117,
      "outputs": [
        {
          "output_type": "execute_result",
          "data": {
            "text/plain": [
              "0.6666666666666666"
            ]
          },
          "metadata": {
            "tags": []
          },
          "execution_count": 117
        }
      ]
    },
    {
      "cell_type": "code",
      "metadata": {
        "id": "SwH4_CAxESSP",
        "colab_type": "code",
        "colab": {}
      },
      "source": [
        "y_pred = best_clf.predict(X_test)"
      ],
      "execution_count": 0,
      "outputs": []
    },
    {
      "cell_type": "code",
      "metadata": {
        "id": "r1qACXovEAch",
        "colab_type": "code",
        "colab": {}
      },
      "source": [
        "matrix = confusion_matrix(y_test, y_pred)"
      ],
      "execution_count": 0,
      "outputs": []
    },
    {
      "cell_type": "code",
      "metadata": {
        "id": "lKLJ8dtGEjmM",
        "colab_type": "code",
        "colab": {
          "base_uri": "https://localhost:8080/",
          "height": 281
        },
        "outputId": "245045b0-4907-4d41-d1ef-5099803c377a"
      },
      "source": [
        "sn.heatmap(matrix, annot=True)\n",
        "plt.title('Confusion Matrix')\n",
        "plt.show()"
      ],
      "execution_count": 121,
      "outputs": [
        {
          "output_type": "display_data",
          "data": {
            "image/png": "[encoded data removed]",
            "text/plain": [
              "<Figure size 432x288 with 2 Axes>"
            ]
          },
          "metadata": {
            "tags": []
          }
        }
      ]
    },
    {
      "cell_type": "markdown",
      "metadata": {
        "id": "QwT1z2A5PmxW",
        "colab_type": "text"
      },
      "source": [
        "As we can see, we got 40 true negatives, 11 false positives, 22 false negatives, and 26 true positives. "
      ]
    },
    {
      "cell_type": "code",
      "metadata": {
        "id": "6BihCOtzQOwV",
        "colab_type": "code",
        "colab": {}
      },
      "source": [
        "accuracy = accuracy_score(y_test, y_pred)"
      ],
      "execution_count": 0,
      "outputs": []
    },
    {
      "cell_type": "code",
      "metadata": {
        "id": "aIVWHCMwQT_U",
        "colab_type": "code",
        "colab": {}
      },
      "source": [
        "recall = recall_score(y_test, y_pred)"
      ],
      "execution_count": 0,
      "outputs": []
    },
    {
      "cell_type": "code",
      "metadata": {
        "id": "qL2lWzYOQUJO",
        "colab_type": "code",
        "colab": {}
      },
      "source": [
        "specificity = 40 / (40 + 11)"
      ],
      "execution_count": 0,
      "outputs": []
    },
    {
      "cell_type": "code",
      "metadata": {
        "id": "GewOBc8fQ7m7",
        "colab_type": "code",
        "colab": {
          "base_uri": "https://localhost:8080/",
          "height": 34
        },
        "outputId": "2fc677a3-c15c-4d2a-c673-002f4709900d"
      },
      "source": [
        "f\"Overall, we the SVM model achieved an accuracy score of {accuracy} with a {recall} recall score.\""
      ],
      "execution_count": 126,
      "outputs": [
        {
          "output_type": "execute_result",
          "data": {
            "text/plain": [
              "'Overall, we the SVM model achieved an accuracy score of 0.6666666666666666 with a 0.5416666666666666 recall score.'"
            ]
          },
          "metadata": {
            "tags": []
          },
          "execution_count": 126
        }
      ]
    },
    {
      "cell_type": "code",
      "metadata": {
        "id": "nUV6pS3YRo22",
        "colab_type": "code",
        "colab": {
          "base_uri": "https://localhost:8080/",
          "height": 34
        },
        "outputId": "38c73ed3-c2e8-4877-f1e7-945feffc87d8"
      },
      "source": [
        "f\"We also achived a specificity of {specificity} that measures how often is the prediction correct if the actual value is negative.\""
      ],
      "execution_count": 127,
      "outputs": [
        {
          "output_type": "execute_result",
          "data": {
            "text/plain": [
              "'We also achived a specificity of 0.7843137254901961 that measures how often is the prediction correct if the actual value is negative.'"
            ]
          },
          "metadata": {
            "tags": []
          },
          "execution_count": 127
        }
      ]
    },
    {
      "cell_type": "markdown",
      "metadata": {
        "id": "GvKTryE-FIWB",
        "colab_type": "text"
      },
      "source": [
        "## Train model 2: Logistic Model"
      ]
    },
    {
      "cell_type": "code",
      "metadata": {
        "id": "hTBS3encFI2u",
        "colab_type": "code",
        "outputId": "7cb11109-3f0b-4f90-f376-7267e9eff58e",
        "colab": {
          "base_uri": "https://localhost:8080/",
          "height": 71
        }
      },
      "source": [
        "clf = LogisticRegression(random_state=0).fit(X_train, y_train)"
      ],
      "execution_count": 128,
      "outputs": [
        {
          "output_type": "stream",
          "text": [
            "/usr/local/lib/python3.6/dist-packages/sklearn/linear_model/logistic.py:432: FutureWarning: Default solver will be changed to 'lbfgs' in 0.22. Specify a solver to silence this warning.\n",
            "  FutureWarning)\n"
          ],
          "name": "stderr"
        }
      ]
    },
    {
      "cell_type": "code",
      "metadata": {
        "id": "-6_G108uFlex",
        "colab_type": "code",
        "outputId": "a3bd602e-73e5-4374-aae2-870e6dec8a5e",
        "colab": {
          "base_uri": "https://localhost:8080/",
          "height": 34
        }
      },
      "source": [
        "clf.score(X_test, y_test)"
      ],
      "execution_count": 129,
      "outputs": [
        {
          "output_type": "execute_result",
          "data": {
            "text/plain": [
              "0.7272727272727273"
            ]
          },
          "metadata": {
            "tags": []
          },
          "execution_count": 129
        }
      ]
    },
    {
      "cell_type": "code",
      "metadata": {
        "id": "5ZjX5sbtFtJl",
        "colab_type": "code",
        "colab": {}
      },
      "source": [
        "y_pred = clf.predict(X_test)"
      ],
      "execution_count": 0,
      "outputs": []
    },
    {
      "cell_type": "code",
      "metadata": {
        "id": "QFoDI2ILYAFy",
        "colab_type": "code",
        "colab": {
          "base_uri": "https://localhost:8080/",
          "height": 34
        },
        "outputId": "6f4b1225-d319-446d-cec5-36b11d497f24"
      },
      "source": [
        "f\"Base accuracy {accuracy_score(y_test, y_pred)}\""
      ],
      "execution_count": 161,
      "outputs": [
        {
          "output_type": "execute_result",
          "data": {
            "text/plain": [
              "'Base accuracy 0.696969696969697'"
            ]
          },
          "metadata": {
            "tags": []
          },
          "execution_count": 161
        }
      ]
    },
    {
      "cell_type": "markdown",
      "metadata": {
        "id": "kw0Xf0cfxgqj",
        "colab_type": "text"
      },
      "source": [
        "### Let's try to find the best set of parameters with cross validation"
      ]
    },
    {
      "cell_type": "code",
      "metadata": {
        "id": "yT2K8-0Zx458",
        "colab_type": "code",
        "colab": {}
      },
      "source": [
        "clf = LogisticRegression(random_state=0)"
      ],
      "execution_count": 0,
      "outputs": []
    },
    {
      "cell_type": "code",
      "metadata": {
        "id": "g3bSQGZixjAD",
        "colab_type": "code",
        "colab": {}
      },
      "source": [
        "param_grid = {'penalty': ['l1', 'l2']}"
      ],
      "execution_count": 0,
      "outputs": []
    },
    {
      "cell_type": "code",
      "metadata": {
        "id": "dw_nhsGfuJFw",
        "colab_type": "code",
        "outputId": "1e194a01-f422-47f8-a1eb-fe3913c3c8bd",
        "colab": {
          "base_uri": "https://localhost:8080/",
          "height": 122
        }
      },
      "source": [
        "search = GridSearchCV(clf, param_grid, cv=10, verbose=2, n_jobs=-1).fit(x, y)"
      ],
      "execution_count": 133,
      "outputs": [
        {
          "output_type": "stream",
          "text": [
            "Fitting 10 folds for each of 2 candidates, totalling 20 fits\n"
          ],
          "name": "stdout"
        },
        {
          "output_type": "stream",
          "text": [
            "[Parallel(n_jobs=-1)]: Using backend LokyBackend with 2 concurrent workers.\n",
            "[Parallel(n_jobs=-1)]: Done  20 out of  20 | elapsed:    3.0s finished\n",
            "/usr/local/lib/python3.6/dist-packages/sklearn/linear_model/logistic.py:432: FutureWarning: Default solver will be changed to 'lbfgs' in 0.22. Specify a solver to silence this warning.\n",
            "  FutureWarning)\n"
          ],
          "name": "stderr"
        }
      ]
    },
    {
      "cell_type": "code",
      "metadata": {
        "id": "WMB21O7Mx9Tx",
        "colab_type": "code",
        "outputId": "438d9a06-1a3c-481c-d838-8302deb0c8de",
        "colab": {
          "base_uri": "https://localhost:8080/",
          "height": 34
        }
      },
      "source": [
        "search.best_score_"
      ],
      "execution_count": 134,
      "outputs": [
        {
          "output_type": "execute_result",
          "data": {
            "text/plain": [
              "0.69"
            ]
          },
          "metadata": {
            "tags": []
          },
          "execution_count": 134
        }
      ]
    },
    {
      "cell_type": "code",
      "metadata": {
        "id": "H9R533h5yOic",
        "colab_type": "code",
        "outputId": "d5bd6a5a-5a09-45ea-c5ff-377569f79a4c",
        "colab": {
          "base_uri": "https://localhost:8080/",
          "height": 34
        }
      },
      "source": [
        "search.best_params_"
      ],
      "execution_count": 135,
      "outputs": [
        {
          "output_type": "execute_result",
          "data": {
            "text/plain": [
              "{'penalty': 'l1'}"
            ]
          },
          "metadata": {
            "tags": []
          },
          "execution_count": 135
        }
      ]
    },
    {
      "cell_type": "code",
      "metadata": {
        "id": "SL5lT4HgWBIb",
        "colab_type": "code",
        "colab": {}
      },
      "source": [
        "best_clf = search.best_estimator_"
      ],
      "execution_count": 0,
      "outputs": []
    },
    {
      "cell_type": "code",
      "metadata": {
        "colab_type": "code",
        "outputId": "6cda7d1d-6878-4862-db3d-cc034b79e023",
        "id": "HBm1t67iWQD4",
        "colab": {
          "base_uri": "https://localhost:8080/",
          "height": 34
        }
      },
      "source": [
        "best_clf.score(X_test, y_test)"
      ],
      "execution_count": 137,
      "outputs": [
        {
          "output_type": "execute_result",
          "data": {
            "text/plain": [
              "0.797979797979798"
            ]
          },
          "metadata": {
            "tags": []
          },
          "execution_count": 137
        }
      ]
    },
    {
      "cell_type": "code",
      "metadata": {
        "colab_type": "code",
        "id": "TttZsWp4WQD6",
        "colab": {}
      },
      "source": [
        "y_pred = best_clf.predict(X_test)"
      ],
      "execution_count": 0,
      "outputs": []
    },
    {
      "cell_type": "code",
      "metadata": {
        "colab_type": "code",
        "id": "jOGHGEvMWQD8",
        "colab": {}
      },
      "source": [
        "matrix = confusion_matrix(y_test, y_pred)"
      ],
      "execution_count": 0,
      "outputs": []
    },
    {
      "cell_type": "code",
      "metadata": {
        "id": "lO4I9BrYW2WC",
        "colab_type": "code",
        "colab": {}
      },
      "source": [
        "[tn,fp,fn,tp] = matrix.flatten()"
      ],
      "execution_count": 0,
      "outputs": []
    },
    {
      "cell_type": "code",
      "metadata": {
        "colab_type": "code",
        "outputId": "e9c23a58-1a1d-4984-c68e-3095574aa467",
        "id": "eUYIaO7ZWQD-",
        "colab": {
          "base_uri": "https://localhost:8080/",
          "height": 281
        }
      },
      "source": [
        "sn.heatmap(matrix, annot=True)\n",
        "plt.title('Confusion Matrix')\n",
        "plt.show()"
      ],
      "execution_count": 140,
      "outputs": [
        {
          "output_type": "display_data",
          "data": {
            "image/png": "[encoded data removed]",
            "text/plain": [
              "<Figure size 432x288 with 2 Axes>"
            ]
          },
          "metadata": {
            "tags": []
          }
        }
      ]
    },
    {
      "cell_type": "code",
      "metadata": {
        "id": "eC7-JPD4XRDB",
        "colab_type": "code",
        "colab": {
          "base_uri": "https://localhost:8080/",
          "height": 34
        },
        "outputId": "ff7ce70b-8ccc-477e-c5a8-586beec41b8f"
      },
      "source": [
        "f\"As we can see, we got {tn} true negatives, {fp} false positives, {fn} false negatives, and {tp} true positives. \""
      ],
      "execution_count": 154,
      "outputs": [
        {
          "output_type": "execute_result",
          "data": {
            "text/plain": [
              "'As we can see, we got 45 true negatives, 6 false positives, 14 false negatives, and 34 true positives. '"
            ]
          },
          "metadata": {
            "tags": []
          },
          "execution_count": 154
        }
      ]
    },
    {
      "cell_type": "code",
      "metadata": {
        "colab_type": "code",
        "id": "hCUsf3rMWQEA",
        "colab": {}
      },
      "source": [
        "accuracy = accuracy_score(y_test, y_pred)"
      ],
      "execution_count": 0,
      "outputs": []
    },
    {
      "cell_type": "code",
      "metadata": {
        "colab_type": "code",
        "id": "8Gk1CYcHWQEB",
        "colab": {}
      },
      "source": [
        "recall = recall_score(y_test, y_pred)"
      ],
      "execution_count": 0,
      "outputs": []
    },
    {
      "cell_type": "code",
      "metadata": {
        "colab_type": "code",
        "id": "3NRwz2E9WQED",
        "colab": {}
      },
      "source": [
        "specificity = tn / (tn + fp)"
      ],
      "execution_count": 0,
      "outputs": []
    },
    {
      "cell_type": "code",
      "metadata": {
        "colab_type": "code",
        "outputId": "3a2d8ec7-0940-4b5b-c0bc-6e50db35a78a",
        "id": "-bjsX7gmWQEE",
        "colab": {
          "base_uri": "https://localhost:8080/",
          "height": 34
        }
      },
      "source": [
        "f\"Overall, we the logistic regression model achieved an accuracy score of {accuracy} with a {recall} recall score.\""
      ],
      "execution_count": 182,
      "outputs": [
        {
          "output_type": "execute_result",
          "data": {
            "text/plain": [
              "'Overall, we the logistic regression model achieved an accuracy score of 0.797979797979798 with a 0.7083333333333334 recall score.'"
            ]
          },
          "metadata": {
            "tags": []
          },
          "execution_count": 182
        }
      ]
    },
    {
      "cell_type": "code",
      "metadata": {
        "colab_type": "code",
        "outputId": "609da514-9c40-445c-efe6-9ce8e064adbd",
        "id": "KT1ePt9fWQEG",
        "colab": {
          "base_uri": "https://localhost:8080/",
          "height": 34
        }
      },
      "source": [
        "f\"We also achived a specificity of {specificity} that measures how often is the prediction correct if the actual value is negative.\""
      ],
      "execution_count": 153,
      "outputs": [
        {
          "output_type": "execute_result",
          "data": {
            "text/plain": [
              "'We also achived a specificity of 0.8823529411764706 that measures how often is the prediction correct if the actual value is negative.'"
            ]
          },
          "metadata": {
            "tags": []
          },
          "execution_count": 153
        }
      ]
    },
    {
      "cell_type": "markdown",
      "metadata": {
        "id": "nLc-zuZZymIs",
        "colab_type": "text"
      },
      "source": [
        "## Train model 3: Tree"
      ]
    },
    {
      "cell_type": "code",
      "metadata": {
        "id": "mpeLhXruyr9M",
        "colab_type": "code",
        "colab": {}
      },
      "source": [
        "clf = GradientBoostingClassifier().fit(X_train, y_train)"
      ],
      "execution_count": 0,
      "outputs": []
    },
    {
      "cell_type": "code",
      "metadata": {
        "id": "XycG4FIQy_sM",
        "colab_type": "code",
        "outputId": "deefdcf3-f349-4be5-aeb6-10608231a0a9",
        "colab": {
          "base_uri": "https://localhost:8080/",
          "height": 34
        }
      },
      "source": [
        "clf.score(X_test, y_test)"
      ],
      "execution_count": 164,
      "outputs": [
        {
          "output_type": "execute_result",
          "data": {
            "text/plain": [
              "0.6767676767676768"
            ]
          },
          "metadata": {
            "tags": []
          },
          "execution_count": 164
        }
      ]
    },
    {
      "cell_type": "code",
      "metadata": {
        "id": "l27Sy64rzQxY",
        "colab_type": "code",
        "colab": {}
      },
      "source": [
        "y_pred = clf.predict(X_test)"
      ],
      "execution_count": 0,
      "outputs": []
    },
    {
      "cell_type": "code",
      "metadata": {
        "id": "weNtm4McYGnw",
        "colab_type": "code",
        "colab": {
          "base_uri": "https://localhost:8080/",
          "height": 34
        },
        "outputId": "a377d9f7-5fa5-44cb-8114-5358f42fba8a"
      },
      "source": [
        "f\"Base accuracy {accuracy_score(y_test, y_pred)}\""
      ],
      "execution_count": 166,
      "outputs": [
        {
          "output_type": "execute_result",
          "data": {
            "text/plain": [
              "'Base accuracy 0.6767676767676768'"
            ]
          },
          "metadata": {
            "tags": []
          },
          "execution_count": 166
        }
      ]
    },
    {
      "cell_type": "markdown",
      "metadata": {
        "id": "n-LzoXs3zdIM",
        "colab_type": "text"
      },
      "source": [
        "### Let's try to find the best set of parameters with cross validation"
      ]
    },
    {
      "cell_type": "code",
      "metadata": {
        "id": "Vkbrm-1-zdqj",
        "colab_type": "code",
        "colab": {}
      },
      "source": [
        "clf = GradientBoostingClassifier()"
      ],
      "execution_count": 0,
      "outputs": []
    },
    {
      "cell_type": "code",
      "metadata": {
        "id": "NddqveFHzkWD",
        "colab_type": "code",
        "colab": {}
      },
      "source": [
        "param_grid = {'learning_rate': [.5, 1,1.5], 'n_estimators': [100, 200, 300], 'max_depth': [3,5,8]}"
      ],
      "execution_count": 0,
      "outputs": []
    },
    {
      "cell_type": "code",
      "metadata": {
        "id": "W77heTVRz4g4",
        "colab_type": "code",
        "outputId": "fed10212-fdd0-49a9-e0b2-316a2d676602",
        "colab": {
          "base_uri": "https://localhost:8080/",
          "height": 139
        }
      },
      "source": [
        "search = GridSearchCV(clf, param_grid, cv=4, verbose=3, n_jobs=-1).fit(x, y)"
      ],
      "execution_count": 171,
      "outputs": [
        {
          "output_type": "stream",
          "text": [
            "Fitting 4 folds for each of 27 candidates, totalling 108 fits\n"
          ],
          "name": "stdout"
        },
        {
          "output_type": "stream",
          "text": [
            "[Parallel(n_jobs=-1)]: Using backend LokyBackend with 2 concurrent workers.\n",
            "[Parallel(n_jobs=-1)]: Done  28 tasks      | elapsed:   59.6s\n",
            "[Parallel(n_jobs=-1)]: Done 108 out of 108 | elapsed:  2.6min finished\n",
            "/usr/local/lib/python3.6/dist-packages/sklearn/model_selection/_search.py:814: DeprecationWarning: The default of the `iid` parameter will change from True to False in version 0.22 and will be removed in 0.24. This will change numeric results when test-set sizes are unequal.\n",
            "  DeprecationWarning)\n"
          ],
          "name": "stderr"
        }
      ]
    },
    {
      "cell_type": "code",
      "metadata": {
        "id": "PAh4OOLwz7oX",
        "colab_type": "code",
        "outputId": "246bcdc0-f71e-4442-dc9f-72fd19162f01",
        "colab": {
          "base_uri": "https://localhost:8080/",
          "height": 34
        }
      },
      "source": [
        "search.best_score_"
      ],
      "execution_count": 172,
      "outputs": [
        {
          "output_type": "execute_result",
          "data": {
            "text/plain": [
              "0.6933333333333334"
            ]
          },
          "metadata": {
            "tags": []
          },
          "execution_count": 172
        }
      ]
    },
    {
      "cell_type": "code",
      "metadata": {
        "id": "g9WSYEeT2_Dp",
        "colab_type": "code",
        "outputId": "b9516586-dcc4-43ed-a8fb-8e54242eeda7",
        "colab": {
          "base_uri": "https://localhost:8080/",
          "height": 34
        }
      },
      "source": [
        "search.best_params_"
      ],
      "execution_count": 173,
      "outputs": [
        {
          "output_type": "execute_result",
          "data": {
            "text/plain": [
              "{'learning_rate': 1, 'max_depth': 3, 'n_estimators': 300}"
            ]
          },
          "metadata": {
            "tags": []
          },
          "execution_count": 173
        }
      ]
    },
    {
      "cell_type": "code",
      "metadata": {
        "id": "qPV--BU-aShX",
        "colab_type": "code",
        "colab": {}
      },
      "source": [
        "best_clf = search.best_estimator_"
      ],
      "execution_count": 0,
      "outputs": []
    },
    {
      "cell_type": "code",
      "metadata": {
        "colab_type": "code",
        "outputId": "9e304854-e3d3-4c09-815e-aac4576fd816",
        "id": "XS7bwx4RaQz2",
        "colab": {
          "base_uri": "https://localhost:8080/",
          "height": 34
        }
      },
      "source": [
        "best_clf.score(X_test, y_test)"
      ],
      "execution_count": 181,
      "outputs": [
        {
          "output_type": "execute_result",
          "data": {
            "text/plain": [
              "1.0"
            ]
          },
          "metadata": {
            "tags": []
          },
          "execution_count": 181
        }
      ]
    },
    {
      "cell_type": "code",
      "metadata": {
        "colab_type": "code",
        "id": "fkLpvqGkaQz6",
        "colab": {}
      },
      "source": [
        "y_pred = best_clf.predict(X_test)"
      ],
      "execution_count": 0,
      "outputs": []
    },
    {
      "cell_type": "code",
      "metadata": {
        "colab_type": "code",
        "id": "-RwGfBnMaQz8",
        "colab": {}
      },
      "source": [
        "matrix = confusion_matrix(y_test, y_pred)"
      ],
      "execution_count": 0,
      "outputs": []
    },
    {
      "cell_type": "code",
      "metadata": {
        "colab_type": "code",
        "id": "JmoI4ZW_aQz9",
        "colab": {}
      },
      "source": [
        "[tn,fp,fn,tp] = matrix.flatten()"
      ],
      "execution_count": 0,
      "outputs": []
    },
    {
      "cell_type": "code",
      "metadata": {
        "colab_type": "code",
        "outputId": "9177b4cc-0af4-4caa-88f2-8a8fa9b8c288",
        "id": "2CvuOl5IaQz_",
        "colab": {
          "base_uri": "https://localhost:8080/",
          "height": 281
        }
      },
      "source": [
        "sn.heatmap(matrix, annot=True)\n",
        "plt.title('Confusion Matrix')\n",
        "plt.show()"
      ],
      "execution_count": 179,
      "outputs": [
        {
          "output_type": "display_data",
          "data": {
            "image/png": "[encoded data removed]",
            "text/plain": [
              "<Figure size 432x288 with 2 Axes>"
            ]
          },
          "metadata": {
            "tags": []
          }
        }
      ]
    },
    {
      "cell_type": "code",
      "metadata": {
        "colab_type": "code",
        "outputId": "ff7ce70b-8ccc-477e-c5a8-586beec41b8f",
        "id": "6u8giaq-aQ0A",
        "colab": {
          "base_uri": "https://localhost:8080/",
          "height": 34
        }
      },
      "source": [
        "f\"As we can see, we got {tn} true negatives, {fp} false positives, {fn} false negatives, and {tp} true positives. \""
      ],
      "execution_count": 0,
      "outputs": [
        {
          "output_type": "execute_result",
          "data": {
            "text/plain": [
              "'As we can see, we got 45 true negatives, 6 false positives, 14 false negatives, and 34 true positives. '"
            ]
          },
          "metadata": {
            "tags": []
          },
          "execution_count": 154
        }
      ]
    },
    {
      "cell_type": "code",
      "metadata": {
        "colab_type": "code",
        "id": "XzubUiEQaQ0B",
        "colab": {}
      },
      "source": [
        "accuracy = accuracy_score(y_test, y_pred)"
      ],
      "execution_count": 0,
      "outputs": []
    },
    {
      "cell_type": "code",
      "metadata": {
        "colab_type": "code",
        "id": "4mvXThZSaQ0D",
        "colab": {}
      },
      "source": [
        "recall = recall_score(y_test, y_pred)"
      ],
      "execution_count": 0,
      "outputs": []
    },
    {
      "cell_type": "code",
      "metadata": {
        "colab_type": "code",
        "id": "9fz0EywiaQ0E",
        "colab": {}
      },
      "source": [
        "specificity = tn / (tn + fp)"
      ],
      "execution_count": 0,
      "outputs": []
    },
    {
      "cell_type": "code",
      "metadata": {
        "colab_type": "code",
        "outputId": "31fc1da6-130c-4a62-9a5c-4a8d95cab2dc",
        "id": "zBRLA4y0aQ0F",
        "colab": {
          "base_uri": "https://localhost:8080/",
          "height": 34
        }
      },
      "source": [
        "f\"Overall, we the tree model achieved an accuracy score of {accuracy} with a {recall} recall score.\""
      ],
      "execution_count": 0,
      "outputs": [
        {
          "output_type": "execute_result",
          "data": {
            "text/plain": [
              "'Overall, we the SVM model achieved an accuracy score of 0.797979797979798 with a 0.7083333333333334 recall score.'"
            ]
          },
          "metadata": {
            "tags": []
          },
          "execution_count": 152
        }
      ]
    },
    {
      "cell_type": "code",
      "metadata": {
        "colab_type": "code",
        "outputId": "609da514-9c40-445c-efe6-9ce8e064adbd",
        "id": "9oslVzAsaQ0G",
        "colab": {
          "base_uri": "https://localhost:8080/",
          "height": 34
        }
      },
      "source": [
        "f\"We also achived a specificity of {specificity} that measures how often is the prediction correct if the actual value is negative.\""
      ],
      "execution_count": 0,
      "outputs": [
        {
          "output_type": "execute_result",
          "data": {
            "text/plain": [
              "'We also achived a specificity of 0.8823529411764706 that measures how often is the prediction correct if the actual value is negative.'"
            ]
          },
          "metadata": {
            "tags": []
          },
          "execution_count": 153
        }
      ]
    }
  ]
}